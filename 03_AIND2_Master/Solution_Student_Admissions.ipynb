{
  "nbformat": 4,
  "nbformat_minor": 0,
  "metadata": {
    "kernelspec": {
      "display_name": "Python 3",
      "language": "python",
      "name": "python3"
    },
    "language_info": {
      "codemirror_mode": {
        "name": "ipython",
        "version": 3
      },
      "file_extension": ".py",
      "mimetype": "text/x-python",
      "name": "python",
      "nbconvert_exporter": "python",
      "pygments_lexer": "ipython3",
      "version": "3.5.2"
    },
    "colab": {
      "name": "Student_Admissions.ipynb",
      "provenance": []
    }
  },
  "cells": [
    {
      "cell_type": "markdown",
      "metadata": {
        "deletable": true,
        "editable": true,
        "id": "YfOxWT20HWat"
      },
      "source": [
        "# Predicting Student Admissions\n",
        "\n",
        "In this notebook, we predict student admissions to graduate school at UCLA based on three pieces of data:\n",
        "- GRE Scores (Test)\n",
        "- GPA Scores (Grades)\n",
        "- Class rank (1-4)\n",
        "\n",
        "The dataset originally came from here: http://www.ats.ucla.edu/\n",
        "\n",
        "_Note: Thanks Adam Uccello, for helping us debug!_"
      ]
    },
    {
      "cell_type": "markdown",
      "metadata": {
        "deletable": true,
        "editable": true,
        "id": "sCTwOuYXHWax"
      },
      "source": [
        "## 1. Load and visualize the data\n",
        "\n",
        "To load the data, we will use a very useful data package called Pandas. You can read on Pandas documentation here:"
      ]
    },
    {
      "cell_type": "code",
      "metadata": {
        "deletable": true,
        "editable": true,
        "id": "6iL9VgBKHWa2",
        "outputId": "859cb51a-8061-46cc-81c2-0a826a8eb37e",
        "colab": {
          "base_uri": "https://localhost:8080/",
          "height": 419
        }
      },
      "source": [
        "import pandas as pd\n",
        "#data = pd.read_csv('student_data.csv')\n",
        "#data\n",
        "url = 'https://raw.githubusercontent.com/alirezakfz/DeepNN/master/03_AIND2_Master/student_data.csv'\n",
        "data = pd.read_csv(url)\n",
        "data"
      ],
      "execution_count": 11,
      "outputs": [
        {
          "output_type": "execute_result",
          "data": {
            "text/html": [
              "<div>\n",
              "<style scoped>\n",
              "    .dataframe tbody tr th:only-of-type {\n",
              "        vertical-align: middle;\n",
              "    }\n",
              "\n",
              "    .dataframe tbody tr th {\n",
              "        vertical-align: top;\n",
              "    }\n",
              "\n",
              "    .dataframe thead th {\n",
              "        text-align: right;\n",
              "    }\n",
              "</style>\n",
              "<table border=\"1\" class=\"dataframe\">\n",
              "  <thead>\n",
              "    <tr style=\"text-align: right;\">\n",
              "      <th></th>\n",
              "      <th>admit</th>\n",
              "      <th>gre</th>\n",
              "      <th>gpa</th>\n",
              "      <th>rank</th>\n",
              "    </tr>\n",
              "  </thead>\n",
              "  <tbody>\n",
              "    <tr>\n",
              "      <th>0</th>\n",
              "      <td>0</td>\n",
              "      <td>380.0</td>\n",
              "      <td>3.61</td>\n",
              "      <td>3.0</td>\n",
              "    </tr>\n",
              "    <tr>\n",
              "      <th>1</th>\n",
              "      <td>1</td>\n",
              "      <td>660.0</td>\n",
              "      <td>3.67</td>\n",
              "      <td>3.0</td>\n",
              "    </tr>\n",
              "    <tr>\n",
              "      <th>2</th>\n",
              "      <td>1</td>\n",
              "      <td>800.0</td>\n",
              "      <td>4.00</td>\n",
              "      <td>1.0</td>\n",
              "    </tr>\n",
              "    <tr>\n",
              "      <th>3</th>\n",
              "      <td>1</td>\n",
              "      <td>640.0</td>\n",
              "      <td>3.19</td>\n",
              "      <td>4.0</td>\n",
              "    </tr>\n",
              "    <tr>\n",
              "      <th>4</th>\n",
              "      <td>0</td>\n",
              "      <td>520.0</td>\n",
              "      <td>2.93</td>\n",
              "      <td>4.0</td>\n",
              "    </tr>\n",
              "    <tr>\n",
              "      <th>...</th>\n",
              "      <td>...</td>\n",
              "      <td>...</td>\n",
              "      <td>...</td>\n",
              "      <td>...</td>\n",
              "    </tr>\n",
              "    <tr>\n",
              "      <th>395</th>\n",
              "      <td>0</td>\n",
              "      <td>620.0</td>\n",
              "      <td>4.00</td>\n",
              "      <td>2.0</td>\n",
              "    </tr>\n",
              "    <tr>\n",
              "      <th>396</th>\n",
              "      <td>0</td>\n",
              "      <td>560.0</td>\n",
              "      <td>3.04</td>\n",
              "      <td>3.0</td>\n",
              "    </tr>\n",
              "    <tr>\n",
              "      <th>397</th>\n",
              "      <td>0</td>\n",
              "      <td>460.0</td>\n",
              "      <td>2.63</td>\n",
              "      <td>2.0</td>\n",
              "    </tr>\n",
              "    <tr>\n",
              "      <th>398</th>\n",
              "      <td>0</td>\n",
              "      <td>700.0</td>\n",
              "      <td>3.65</td>\n",
              "      <td>2.0</td>\n",
              "    </tr>\n",
              "    <tr>\n",
              "      <th>399</th>\n",
              "      <td>0</td>\n",
              "      <td>600.0</td>\n",
              "      <td>3.89</td>\n",
              "      <td>3.0</td>\n",
              "    </tr>\n",
              "  </tbody>\n",
              "</table>\n",
              "<p>400 rows × 4 columns</p>\n",
              "</div>"
            ],
            "text/plain": [
              "     admit    gre   gpa  rank\n",
              "0        0  380.0  3.61   3.0\n",
              "1        1  660.0  3.67   3.0\n",
              "2        1  800.0  4.00   1.0\n",
              "3        1  640.0  3.19   4.0\n",
              "4        0  520.0  2.93   4.0\n",
              "..     ...    ...   ...   ...\n",
              "395      0  620.0  4.00   2.0\n",
              "396      0  560.0  3.04   3.0\n",
              "397      0  460.0  2.63   2.0\n",
              "398      0  700.0  3.65   2.0\n",
              "399      0  600.0  3.89   3.0\n",
              "\n",
              "[400 rows x 4 columns]"
            ]
          },
          "metadata": {
            "tags": []
          },
          "execution_count": 11
        }
      ]
    },
    {
      "cell_type": "markdown",
      "metadata": {
        "deletable": true,
        "editable": true,
        "id": "9vInY57LHWa_"
      },
      "source": [
        "Let's plot the data and see how it looks."
      ]
    },
    {
      "cell_type": "code",
      "metadata": {
        "deletable": true,
        "editable": true,
        "id": "IinP1Nf2HWbC",
        "outputId": "7a34dfe2-cc9e-4769-8fb3-37231efee135",
        "colab": {
          "base_uri": "https://localhost:8080/",
          "height": 279
        }
      },
      "source": [
        "import matplotlib.pyplot as plt\n",
        "import numpy as np\n",
        "def plot_points(data):\n",
        "    X = np.array(data[[\"gre\",\"gpa\"]])\n",
        "    y = np.array(data[\"admit\"])\n",
        "    admitted = X[np.argwhere(y==1)]\n",
        "    rejected = X[np.argwhere(y==0)]\n",
        "    plt.scatter([s[0][0] for s in rejected], [s[0][1] for s in rejected], s = 25, color = 'red', edgecolor = 'k')\n",
        "    plt.scatter([s[0][0] for s in admitted], [s[0][1] for s in admitted], s = 25, color = 'cyan', edgecolor = 'k')\n",
        "    plt.xlabel('Test (GRE)')\n",
        "    plt.ylabel('Grades (GPA)')\n",
        "plot_points(data)\n",
        "plt.show()"
      ],
      "execution_count": 12,
      "outputs": [
        {
          "output_type": "display_data",
          "data": {
            "image/png": "[encoded data removed]",
            "text/plain": [
              "<Figure size 432x288 with 1 Axes>"
            ]
          },
          "metadata": {
            "tags": [],
            "needs_background": "light"
          }
        }
      ]
    },
    {
      "cell_type": "markdown",
      "metadata": {
        "deletable": true,
        "editable": true,
        "id": "Lq-M9oApHWbK"
      },
      "source": [
        "The data, based on only GRE and GPA scores, doesn't seem very separable. Maybe if we make a plot for each of the ranks, the boundaries will be more clear."
      ]
    },
    {
      "cell_type": "code",
      "metadata": {
        "deletable": true,
        "editable": true,
        "id": "ZGgJ-2niHWbM",
        "outputId": "0a7f3b48-04ff-4d97-d680-298c282086a7",
        "colab": {
          "base_uri": "https://localhost:8080/",
          "height": 1000
        }
      },
      "source": [
        "data_rank1 = data[data[\"rank\"]==1]\n",
        "data_rank2 = data[data[\"rank\"]==2]\n",
        "data_rank3 = data[data[\"rank\"]==3]\n",
        "data_rank4 = data[data[\"rank\"]==4]\n",
        "plot_points(data_rank1)\n",
        "plt.title(\"Rank 1\")\n",
        "plt.show()\n",
        "plot_points(data_rank2)\n",
        "plt.title(\"Rank 2\")\n",
        "plt.show()\n",
        "plot_points(data_rank3)\n",
        "plt.title(\"Rank 3\")\n",
        "plt.show()\n",
        "plot_points(data_rank4)\n",
        "plt.title(\"Rank 4\")\n",
        "plt.show()\n"
      ],
      "execution_count": 13,
      "outputs": [
        {
          "output_type": "display_data",
          "data": {
            "image/png": "[encoded data removed]",
            "text/plain": [
              "<Figure size 432x288 with 1 Axes>"
            ]
          },
          "metadata": {
            "tags": [],
            "needs_background": "light"
          }
        },
        {
          "output_type": "display_data",
          "data": {
            "image/png": "[encoded data removed]",
            "text/plain": [
              "<Figure size 432x288 with 1 Axes>"
            ]
          },
          "metadata": {
            "tags": [],
            "needs_background": "light"
          }
        },
        {
          "output_type": "display_data",
          "data": {
            "image/png": "[encoded data removed]",
            "text/plain": [
              "<Figure size 432x288 with 1 Axes>"
            ]
          },
          "metadata": {
            "tags": [],
            "needs_background": "light"
          }
        },
        {
          "output_type": "display_data",
          "data": {
            "image/png": "[encoded data removed]",
            "text/plain": [
              "<Figure size 432x288 with 1 Axes>"
            ]
          },
          "metadata": {
            "tags": [],
            "needs_background": "light"
          }
        }
      ]
    },
    {
      "cell_type": "markdown",
      "metadata": {
        "deletable": true,
        "editable": true,
        "id": "C5bal1tLHWbX"
      },
      "source": [
        "These plots look a bit more linearly separable, although not completely. But it seems that using a multi-layer perceptron with the rank, gre, and gpa as inputs, may give us a decent solution."
      ]
    },
    {
      "cell_type": "markdown",
      "metadata": {
        "deletable": true,
        "editable": true,
        "id": "chfI9PZwHWbZ"
      },
      "source": [
        "# 2. Process the data\n",
        "We'll do the following steps to clean up the data for training:\n",
        "- One-hot encode the rank\n",
        "- Normalize the gre and the gpa scores, so they'll be in the interval (0,1)\n",
        "- Split the data into the input X, and the labels y."
      ]
    },
    {
      "cell_type": "code",
      "metadata": {
        "deletable": true,
        "editable": true,
        "id": "k2vLQ4rCHWbZ"
      },
      "source": [
        "import keras\n",
        "from keras.utils import np_utils\n",
        "\n",
        "# remove NaNs\n",
        "data = data.fillna(0)\n",
        "\n",
        "# One-hot encoding the rank\n",
        "processed_data = pd.get_dummies(data, columns=['rank'])\n",
        "\n",
        "# Normalizing the gre and the gpa scores to be in the interval (0,1)\n",
        "processed_data[\"gre\"] = processed_data[\"gre\"]/800\n",
        "processed_data[\"gpa\"] = processed_data[\"gpa\"]/4\n",
        "\n",
        "# Splitting the data input into X, and the labels y \n",
        "X = np.array(processed_data)[:,1:]\n",
        "X = X.astype('float32')\n",
        "y = keras.utils.to_categorical(data[\"admit\"],2)\n"
      ],
      "execution_count": 18,
      "outputs": []
    },
    {
      "cell_type": "code",
      "metadata": {
        "deletable": true,
        "editable": true,
        "id": "0URVxBiUHWbi",
        "outputId": "e0fc0707-89db-49d0-d11f-829fd75cca04",
        "colab": {
          "base_uri": "https://localhost:8080/",
          "height": 476
        }
      },
      "source": [
        "# Checking that the input and output look correct\n",
        "print(\"Shape of X:\", X.shape)\n",
        "print(\"\\nShape of y:\", y.shape)\n",
        "print(\"\\nFirst 10 rows of X\")\n",
        "print(X[:10])\n",
        "print(\"\\nFirst 10 rows of y\")\n",
        "print(y[:10])"
      ],
      "execution_count": 19,
      "outputs": [
        {
          "output_type": "stream",
          "text": [
            "Shape of X: (400, 7)\n",
            "\n",
            "Shape of y: (400, 2)\n",
            "\n",
            "First 10 rows of X\n",
            "[[0.475  0.9025 0.     0.     0.     1.     0.    ]\n",
            " [0.825  0.9175 0.     0.     0.     1.     0.    ]\n",
            " [1.     1.     0.     1.     0.     0.     0.    ]\n",
            " [0.8    0.7975 0.     0.     0.     0.     1.    ]\n",
            " [0.65   0.7325 0.     0.     0.     0.     1.    ]\n",
            " [0.95   0.75   0.     0.     1.     0.     0.    ]\n",
            " [0.7    0.745  0.     1.     0.     0.     0.    ]\n",
            " [0.5    0.77   0.     0.     1.     0.     0.    ]\n",
            " [0.675  0.8475 0.     0.     0.     1.     0.    ]\n",
            " [0.875  0.98   0.     0.     1.     0.     0.    ]]\n",
            "\n",
            "First 10 rows of y\n",
            "[[1. 0.]\n",
            " [0. 1.]\n",
            " [0. 1.]\n",
            " [0. 1.]\n",
            " [1. 0.]\n",
            " [0. 1.]\n",
            " [0. 1.]\n",
            " [1. 0.]\n",
            " [0. 1.]\n",
            " [1. 0.]]\n"
          ],
          "name": "stdout"
        }
      ]
    },
    {
      "cell_type": "code",
      "metadata": {
        "deletable": true,
        "editable": true,
        "id": "cUAcuONeHWbv"
      },
      "source": [
        ""
      ],
      "execution_count": null,
      "outputs": []
    },
    {
      "cell_type": "markdown",
      "metadata": {
        "deletable": true,
        "editable": true,
        "id": "F5QdKMTwHWb7"
      },
      "source": [
        "# 3. Split the data into training and testing sets"
      ]
    },
    {
      "cell_type": "code",
      "metadata": {
        "deletable": true,
        "editable": true,
        "id": "sElMrQN7HWb9",
        "outputId": "05cc81c0-5c73-44a7-bd94-c47935752e89",
        "colab": {
          "base_uri": "https://localhost:8080/",
          "height": 68
        }
      },
      "source": [
        "# break training set into training and validation sets\n",
        "(X_train, X_test) = X[50:], X[:50]\n",
        "(y_train, y_test) = y[50:], y[:50]\n",
        "\n",
        "# print shape of training set\n",
        "print('x_train shape:', X_train.shape)\n",
        "\n",
        "# print number of training, validation, and test images\n",
        "print(X_train.shape[0], 'train samples')\n",
        "print(X_test.shape[0], 'test samples')"
      ],
      "execution_count": 20,
      "outputs": [
        {
          "output_type": "stream",
          "text": [
            "x_train shape: (350, 7)\n",
            "350 train samples\n",
            "50 test samples\n"
          ],
          "name": "stdout"
        }
      ]
    },
    {
      "cell_type": "markdown",
      "metadata": {
        "deletable": true,
        "editable": true,
        "id": "cFnohc-mHWcE"
      },
      "source": [
        "# 4. Define the model architecture"
      ]
    },
    {
      "cell_type": "code",
      "metadata": {
        "deletable": true,
        "editable": true,
        "id": "f51936tZHWcH",
        "outputId": "02678b82-3f13-4512-9359-91f272fa02b3",
        "colab": {
          "base_uri": "https://localhost:8080/",
          "height": 323
        }
      },
      "source": [
        "# Imports\n",
        "import numpy as np\n",
        "from keras.models import Sequential\n",
        "from keras.layers.core import Dense, Dropout, Activation\n",
        "from keras.optimizers import SGD\n",
        "from keras.utils import np_utils\n",
        "\n",
        "# Building the model\n",
        "# Note that filling out the empty rank as \"0\", gave us an extra column, for \"Rank 0\" students.\n",
        "# Thus, our input dimension is 7 instead of 6.\n",
        "model = Sequential()\n",
        "model.add(Dense(128, activation='relu', input_shape=(7,)))\n",
        "model.add(Dropout(.2))\n",
        "model.add(Dense(64, activation='relu'))\n",
        "model.add(Dropout(.1))\n",
        "model.add(Dense(2, activation='softmax'))\n",
        "\n",
        "# Compiling the model\n",
        "model.compile(loss = 'categorical_crossentropy', optimizer='adam', metrics=['accuracy'])\n",
        "model.summary()"
      ],
      "execution_count": 21,
      "outputs": [
        {
          "output_type": "stream",
          "text": [
            "Model: \"sequential\"\n",
            "_________________________________________________________________\n",
            "Layer (type)                 Output Shape              Param #   \n",
            "=================================================================\n",
            "dense (Dense)                (None, 128)               1024      \n",
            "_________________________________________________________________\n",
            "dropout (Dropout)            (None, 128)               0         \n",
            "_________________________________________________________________\n",
            "dense_1 (Dense)              (None, 64)                8256      \n",
            "_________________________________________________________________\n",
            "dropout_1 (Dropout)          (None, 64)                0         \n",
            "_________________________________________________________________\n",
            "dense_2 (Dense)              (None, 2)                 130       \n",
            "=================================================================\n",
            "Total params: 9,410\n",
            "Trainable params: 9,410\n",
            "Non-trainable params: 0\n",
            "_________________________________________________________________\n"
          ],
          "name": "stdout"
        }
      ]
    },
    {
      "cell_type": "markdown",
      "metadata": {
        "deletable": true,
        "editable": true,
        "id": "B5aOhsgIHWcP"
      },
      "source": [
        "# 5. Train the model"
      ]
    },
    {
      "cell_type": "code",
      "metadata": {
        "deletable": true,
        "editable": true,
        "id": "89ckY3jrHWcR",
        "outputId": "09a9d9ba-15af-4492-9f9d-881988a1f58a",
        "colab": {
          "base_uri": "https://localhost:8080/",
          "height": 34
        }
      },
      "source": [
        "# Training the model\n",
        "model.fit(X_train, y_train, epochs=200, batch_size=100, verbose=0)"
      ],
      "execution_count": 22,
      "outputs": [
        {
          "output_type": "execute_result",
          "data": {
            "text/plain": [
              "<tensorflow.python.keras.callbacks.History at 0x7f845571cb00>"
            ]
          },
          "metadata": {
            "tags": []
          },
          "execution_count": 22
        }
      ]
    },
    {
      "cell_type": "markdown",
      "metadata": {
        "deletable": true,
        "editable": true,
        "id": "b9K7Q4eRHWcc"
      },
      "source": [
        "# 6. Score the model"
      ]
    },
    {
      "cell_type": "code",
      "metadata": {
        "deletable": true,
        "editable": true,
        "id": "p_YvVOTnHWcf",
        "outputId": "9334bc7d-e386-48f9-cec4-2658a1342a9e",
        "colab": {
          "base_uri": "https://localhost:8080/",
          "height": 119
        }
      },
      "source": [
        "# Evaluating the model on the training and testing set\n",
        "score = model.evaluate(X_train, y_train)\n",
        "print(\"\\n Training Accuracy:\", score[1])\n",
        "score = model.evaluate(X_test, y_test)\n",
        "print(\"\\n Testing Accuracy:\", score[1])"
      ],
      "execution_count": 23,
      "outputs": [
        {
          "output_type": "stream",
          "text": [
            "11/11 [==============================] - 0s 1ms/step - loss: 0.5547 - accuracy: 0.7200\n",
            "\n",
            " Training Accuracy: 0.7200000286102295\n",
            "2/2 [==============================] - 0s 2ms/step - loss: 0.6634 - accuracy: 0.6800\n",
            "\n",
            " Testing Accuracy: 0.6800000071525574\n"
          ],
          "name": "stdout"
        }
      ]
    },
    {
      "cell_type": "markdown",
      "metadata": {
        "deletable": true,
        "editable": true,
        "id": "NMBD6p4YHWcy"
      },
      "source": [
        "# 7. Play with parameters!\n",
        "You can see that we made several decisions in our training. For instance, the number of layers, the sizes of the layers, the number of epochs, etc.\n",
        "\n",
        "It's your turn to play with parameters! Can you improve the accuracy? The following are other suggestions for these parameters. We'll learn the definitions later in the class:\n",
        "- Activation function: relu and sigmoid\n",
        "- Loss function: categorical_crossentropy, mean_squared_error\n",
        "- Optimizer: rmsprop, adam, ada"
      ]
    },
    {
      "cell_type": "code",
      "metadata": {
        "deletable": true,
        "editable": true,
        "id": "5N-2VtfsHWc0",
        "outputId": "f4cdfe9c-65f8-4191-a44e-f78566bae573",
        "colab": {
          "base_uri": "https://localhost:8080/",
          "height": 119
        }
      },
      "source": [
        "model = Sequential()\n",
        "#model.add(Dense(256, activation='relu', input_shape=(7,)))\n",
        "#model.add(Dropout(.2))\n",
        "model.add(Dense(128, activation='relu'))\n",
        "model.add(Dropout(.2))\n",
        "model.add(Dense(64, activation='relu'))\n",
        "model.add(Dropout(.1))\n",
        "model.add(Dense(2, activation='softmax'))\n",
        "\n",
        "# Compiling the model\n",
        "model.compile(loss = 'mean_squared_error', optimizer='rmsprop', metrics=['accuracy'])\n",
        "#model.summary()\n",
        "\n",
        "model.fit(X_train, y_train, epochs=300, batch_size=100, verbose=0)\n",
        "\n",
        "# Evaluating the model on the training and testing set\n",
        "score = model.evaluate(X_train, y_train)\n",
        "print(\"\\n Training Accuracy:\", score[1])\n",
        "score = model.evaluate(X_test, y_test)\n",
        "print(\"\\n Testing Accuracy:\", score[1])"
      ],
      "execution_count": 45,
      "outputs": [
        {
          "output_type": "stream",
          "text": [
            "11/11 [==============================] - 0s 1ms/step - loss: 0.1860 - accuracy: 0.7286\n",
            "\n",
            " Training Accuracy: 0.7285714149475098\n",
            "2/2 [==============================] - 0s 2ms/step - loss: 0.2308 - accuracy: 0.6600\n",
            "\n",
            " Testing Accuracy: 0.6600000262260437\n"
          ],
          "name": "stdout"
        }
      ]
    },
    {
      "cell_type": "code",
      "metadata": {
        "deletable": true,
        "editable": true,
        "id": "U6AGa1EuHWc8",
        "outputId": "d128370e-b725-440f-bbaf-90783e056318",
        "colab": {
          "base_uri": "https://localhost:8080/",
          "height": 119
        }
      },
      "source": [
        "# Compiling the model\n",
        "model.compile(loss = 'categorical_crossentropy', optimizer='rmsprop', metrics=['accuracy'])\n",
        "#model.summary()\n",
        "\n",
        "model.fit(X_train, y_train, epochs=300, batch_size=100, verbose=0)\n",
        "\n",
        "# Evaluating the model on the training and testing set\n",
        "score = model.evaluate(X_train, y_train)\n",
        "print(\"\\n Training Accuracy:\", score[1])\n",
        "score = model.evaluate(X_test, y_test)\n",
        "print(\"\\n Testing Accuracy:\", score[1])"
      ],
      "execution_count": 46,
      "outputs": [
        {
          "output_type": "stream",
          "text": [
            "11/11 [==============================] - 0s 1ms/step - loss: 0.5246 - accuracy: 0.7457\n",
            "\n",
            " Training Accuracy: 0.7457143068313599\n",
            "2/2 [==============================] - 0s 2ms/step - loss: 0.6520 - accuracy: 0.5800\n",
            "\n",
            " Testing Accuracy: 0.5799999833106995\n"
          ],
          "name": "stdout"
        }
      ]
    },
    {
      "cell_type": "code",
      "metadata": {
        "id": "TdKEZpLmOK-z"
      },
      "source": [
        ""
      ],
      "execution_count": null,
      "outputs": []
    }
  ]
}